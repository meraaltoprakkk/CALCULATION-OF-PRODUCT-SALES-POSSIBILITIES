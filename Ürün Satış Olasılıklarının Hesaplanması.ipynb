{
 "cells": [
  {
   "cell_type": "code",
   "execution_count": 1,
   "id": "4abb2861-0b4b-4bf6-b981-80d503fec35f",
   "metadata": {},
   "outputs": [],
   "source": [
    "#İş Uygulaması: Ürün Satış Olasılıklarının Hesaplanması"
   ]
  },
  {
   "cell_type": "code",
   "execution_count": 2,
   "id": "f0afb03b-af11-49b1-a58f-8213b233682f",
   "metadata": {},
   "outputs": [],
   "source": [
    "#Problem : \n",
    "#Bir yatırım/ toplantı öncesinde gelecek ay ile ilgili satışların \n",
    "#belirli değerlerde gerçekleşmesi olasılıkları belirlenmek isteniyor."
   ]
  },
  {
   "cell_type": "code",
   "execution_count": 3,
   "id": "1305d03b-d80b-4b10-bfab-6d3c89789146",
   "metadata": {},
   "outputs": [],
   "source": [
    "#Detaylar :\n",
    " # Dağılımın normal olduğu bilinir.\n",
    " # Aylık ortalama satış sayısı 80K, standart sapması 5K \n",
    " # 90 K'dan fazla satış yapma olasılığı nedir?"
   ]
  },
  {
   "cell_type": "code",
   "execution_count": 6,
   "id": "ce14f09f-27ca-41e1-a2a7-b94440616e71",
   "metadata": {},
   "outputs": [],
   "source": [
    "#P(X>90) = 0.0228"
   ]
  },
  {
   "cell_type": "code",
   "execution_count": 7,
   "id": "d315d62a-03fa-4f00-94c4-481af9194eaf",
   "metadata": {},
   "outputs": [],
   "source": [
    "#73k'dan az olma olasılığı nedir?\n",
    "#P(X<73) = 0.0808"
   ]
  },
  {
   "cell_type": "code",
   "execution_count": 8,
   "id": "875a1664-603d-434b-b3ed-8789f51c0004",
   "metadata": {},
   "outputs": [],
   "source": [
    "#Satışların 85K ile 90K arasında olması olasılığı nedir?"
   ]
  },
  {
   "cell_type": "code",
   "execution_count": 9,
   "id": "44c64944-383e-4455-a0a9-9eb525dba046",
   "metadata": {},
   "outputs": [],
   "source": [
    "#P(85<X<90) = 0.1359"
   ]
  },
  {
   "cell_type": "code",
   "execution_count": 10,
   "id": "11789700-a4ee-4605-a5ec-dce600f77fab",
   "metadata": {},
   "outputs": [],
   "source": [
    "from scipy.stats import norm"
   ]
  },
  {
   "cell_type": "code",
   "execution_count": 11,
   "id": "84949b22-f0da-43a9-a39c-e01b13100ec2",
   "metadata": {},
   "outputs": [
    {
     "data": {
      "text/plain": [
       "0.02275013194817921"
      ]
     },
     "execution_count": 11,
     "metadata": {},
     "output_type": "execute_result"
    }
   ],
   "source": [
    "#1.değer ortalama(yani dağılımın beklenen değeri) (90)\n",
    "#2.değer standart sapma (80)\n",
    "#3.değer varyans (5)\n",
    "# 90'dan fazla olması\n",
    "1-norm.cdf(90,80,5)"
   ]
  },
  {
   "cell_type": "code",
   "execution_count": 12,
   "id": "de253259-b6ba-4551-a74a-3f3ca1f57435",
   "metadata": {},
   "outputs": [
    {
     "data": {
      "text/plain": [
       "0.9772498680518208"
      ]
     },
     "execution_count": 12,
     "metadata": {},
     "output_type": "execute_result"
    }
   ],
   "source": [
    "# 70'den fazla olması\n",
    "1-norm.cdf(70,80,5)"
   ]
  },
  {
   "cell_type": "code",
   "execution_count": 13,
   "id": "c6fdb0c7-7aae-41d3-a956-add03b005f60",
   "metadata": {},
   "outputs": [
    {
     "data": {
      "text/plain": [
       "0.08075665923377107"
      ]
     },
     "execution_count": 13,
     "metadata": {},
     "output_type": "execute_result"
    }
   ],
   "source": [
    "# 73'den az olması\n",
    "norm.cdf(73,80,5)"
   ]
  },
  {
   "cell_type": "code",
   "execution_count": 14,
   "id": "d8f5d729-dd65-4397-b881-4c6fe365b813",
   "metadata": {},
   "outputs": [
    {
     "data": {
      "text/plain": [
       "0.13590512198327787"
      ]
     },
     "execution_count": 14,
     "metadata": {},
     "output_type": "execute_result"
    }
   ],
   "source": [
    "#85 ile 90 arasında olması\n",
    "norm.cdf(90,80,5)- norm.cdf(85,80,5)"
   ]
  },
  {
   "cell_type": "code",
   "execution_count": null,
   "id": "8a7d144f-4d74-439c-9dfb-1a4ec1c19bde",
   "metadata": {},
   "outputs": [],
   "source": []
  },
  {
   "cell_type": "code",
   "execution_count": null,
   "id": "dd76d730-18bf-4772-b30d-881f8d6327f5",
   "metadata": {},
   "outputs": [],
   "source": []
  }
 ],
 "metadata": {
  "kernelspec": {
   "display_name": "Python 3 (ipykernel)",
   "language": "python",
   "name": "python3"
  },
  "language_info": {
   "codemirror_mode": {
    "name": "ipython",
    "version": 3
   },
   "file_extension": ".py",
   "mimetype": "text/x-python",
   "name": "python",
   "nbconvert_exporter": "python",
   "pygments_lexer": "ipython3",
   "version": "3.9.13"
  }
 },
 "nbformat": 4,
 "nbformat_minor": 5
}
